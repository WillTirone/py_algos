{
 "cells": [
  {
   "cell_type": "code",
   "execution_count": 45,
   "metadata": {},
   "outputs": [],
   "source": [
    "class list_node:\n",
    "    \n",
    "    \"\"\"class to build and define a linked list\"\"\"\n",
    "    \n",
    "    def __init__(self,data):\n",
    "        self.data = data \n",
    "        self.next = None\n",
    "        \n",
    "    def __repr__(self):\n",
    "        a = str(self.data)\n",
    "        return a"
   ]
  },
  {
   "cell_type": "code",
   "execution_count": 47,
   "metadata": {},
   "outputs": [],
   "source": [
    "a = list_node(11)\n",
    "b = list_node(52)\n",
    "c = list_node(18)"
   ]
  },
  {
   "cell_type": "code",
   "execution_count": 25,
   "metadata": {},
   "outputs": [],
   "source": [
    "a.next = b\n",
    "b.next = c\n",
    "\n",
    "del b \n",
    "del c "
   ]
  },
  {
   "cell_type": "code",
   "execution_count": 27,
   "metadata": {},
   "outputs": [
    {
     "name": "stdout",
     "output_type": "stream",
     "text": [
      "52\n",
      "18\n"
     ]
    }
   ],
   "source": [
    "print(a.next.data)\n",
    "print(a.next.next.data)"
   ]
  },
  {
   "cell_type": "code",
   "execution_count": 28,
   "metadata": {},
   "outputs": [],
   "source": [
    "# traversing a linearly linked list \n",
    "def traversal(head):\n",
    "    cur_node = head \n",
    "    while cur_node is not None:\n",
    "        print(cur_node.data)\n",
    "        cur_node = cur_node.next"
   ]
  },
  {
   "cell_type": "code",
   "execution_count": 29,
   "metadata": {},
   "outputs": [
    {
     "name": "stdout",
     "output_type": "stream",
     "text": [
      "11\n",
      "52\n",
      "18\n"
     ]
    }
   ],
   "source": [
    "traversal(a)"
   ]
  },
  {
   "cell_type": "code",
   "execution_count": 31,
   "metadata": {},
   "outputs": [],
   "source": [
    "def unordered_search(head, target):\n",
    "    cur_node = head \n",
    "    while cur_node is not None and cur_node.data != target:\n",
    "        cur_node = cur_node.next\n",
    "    return cur_node is not None "
   ]
  },
  {
   "cell_type": "code",
   "execution_count": 32,
   "metadata": {},
   "outputs": [
    {
     "data": {
      "text/plain": [
       "False"
      ]
     },
     "execution_count": 32,
     "metadata": {},
     "output_type": "execute_result"
    }
   ],
   "source": [
    "unordered_search(a,20)"
   ]
  },
  {
   "cell_type": "code",
   "execution_count": 33,
   "metadata": {},
   "outputs": [
    {
     "data": {
      "text/plain": [
       "True"
      ]
     },
     "execution_count": 33,
     "metadata": {},
     "output_type": "execute_result"
    }
   ],
   "source": [
    "unordered_search(a,11)"
   ]
  },
  {
   "cell_type": "markdown",
   "metadata": {},
   "source": [
    "To prepend an item:\n",
    "\n",
    "new_node = list_node(item)\n",
    "\n",
    "new_node.next = head \n",
    "\n",
    "head = new_node"
   ]
  },
  {
   "cell_type": "markdown",
   "metadata": {},
   "source": [
    "## Bag ADT with a singly linked list"
   ]
  },
  {
   "cell_type": "code",
   "execution_count": 24,
   "metadata": {},
   "outputs": [],
   "source": [
    "class bag:\n",
    "    \n",
    "    #construct empty bag \n",
    "    def __init__(self):\n",
    "        self._head = None \n",
    "        self._size = 0\n",
    "    \n",
    "    # return number of items in bag \n",
    "    def __len__(self):\n",
    "        return self._size\n",
    "    \n",
    "    #check if item in bag, same as unordered search from above\n",
    "    def __contains__(self,target):\n",
    "        cur_node = self._head \n",
    "        while cur_node is not None and cur_node.item != target:\n",
    "            cur_node = cur_node.next\n",
    "        return cur_node is not None\n",
    "    \n",
    "    def add(self, item):\n",
    "        new_node = _bag_list_node(item) #defined below \n",
    "        new_node.next = self._head \n",
    "        self._head = new_node #move head left\n",
    "        self._size += 1 \n",
    "        \n",
    "    def remove(self,item):\n",
    "        pred_node = None \n",
    "        cur_node = self._head\n",
    "        while cur_node is not None and cur_node.item != item:\n",
    "            pred_node = cur_node\n",
    "            cur_node = cur_node.next\n",
    "            \n",
    "        #item must be in bag to remove it \n",
    "        assert cur_node is not None, \"item must be in bag\"\n",
    "        \n",
    "        #unlink the node and return the item\n",
    "        self._size -= 1\n",
    "        if cur_node is head: #this might need to be self._head?\n",
    "            self._head = cur_node.next \n",
    "        else:\n",
    "            pred_node.next = cur_node.next \n",
    "        return cur_node.item\n",
    "    \n",
    "    def __iter__(self):\n",
    "        return _bag_iterator(self._head)\n",
    "        \n",
    "class _bag_list_node(object):\n",
    "    \n",
    "    #helper storage class to create list nodes \n",
    "    def __init__(self,item):\n",
    "        self.item = item\n",
    "        self.next = None \n",
    "        \n",
    "class _bag_iterator:\n",
    "    \n",
    "    def __init__(self, list_head):\n",
    "        self._cur_node = list_head\n",
    "        \n",
    "    def __iter__(self):\n",
    "        return self\n",
    "    \n",
    "    def __next__(self):\n",
    "        if self._cur_node is None:\n",
    "            raise StopIteration\n",
    "        else: \n",
    "            item = self._cur_node.item\n",
    "            self._cur_node = self._cur_node.next\n",
    "            return item"
   ]
  },
  {
   "cell_type": "code",
   "execution_count": 25,
   "metadata": {},
   "outputs": [],
   "source": [
    "a = bag()\n",
    "a.add(14)\n",
    "a.add(21)\n",
    "a.add(100)"
   ]
  },
  {
   "cell_type": "code",
   "execution_count": 26,
   "metadata": {},
   "outputs": [
    {
     "name": "stdout",
     "output_type": "stream",
     "text": [
      "100\n",
      "21\n",
      "14\n"
     ]
    }
   ],
   "source": [
    "for i in a:\n",
    "    print(i)"
   ]
  },
  {
   "cell_type": "code",
   "execution_count": null,
   "metadata": {},
   "outputs": [],
   "source": [
    "#sparse matrix using a linked list is quite complicated, may have to come back to that "
   ]
  },
  {
   "cell_type": "code",
   "execution_count": null,
   "metadata": {},
   "outputs": [],
   "source": [
    "#poly adt p. 183"
   ]
  }
 ],
 "metadata": {
  "kernelspec": {
   "display_name": "Python 3",
   "language": "python",
   "name": "python3"
  },
  "language_info": {
   "codemirror_mode": {
    "name": "ipython",
    "version": 3
   },
   "file_extension": ".py",
   "mimetype": "text/x-python",
   "name": "python",
   "nbconvert_exporter": "python",
   "pygments_lexer": "ipython3",
   "version": "3.8.5"
  }
 },
 "nbformat": 4,
 "nbformat_minor": 4
}

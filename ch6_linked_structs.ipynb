{
 "cells": [
  {
   "cell_type": "code",
   "execution_count": 45,
   "metadata": {},
   "outputs": [],
   "source": [
    "class list_node:\n",
    "    \n",
    "    \"\"\"class to build and define a linked list\"\"\"\n",
    "    \n",
    "    def __init__(self,data):\n",
    "        self.data = data \n",
    "        self.next = None\n",
    "        \n",
    "    def __repr__(self):\n",
    "        a = str(self.data)\n",
    "        return a"
   ]
  },
  {
   "cell_type": "code",
   "execution_count": 47,
   "metadata": {},
   "outputs": [],
   "source": [
    "a = list_node(11)\n",
    "b = list_node(52)\n",
    "c = list_node(18)"
   ]
  },
  {
   "cell_type": "code",
   "execution_count": 25,
   "metadata": {},
   "outputs": [],
   "source": [
    "a.next = b\n",
    "b.next = c\n",
    "\n",
    "del b \n",
    "del c "
   ]
  },
  {
   "cell_type": "code",
   "execution_count": 27,
   "metadata": {},
   "outputs": [
    {
     "name": "stdout",
     "output_type": "stream",
     "text": [
      "52\n",
      "18\n"
     ]
    }
   ],
   "source": [
    "print(a.next.data)\n",
    "print(a.next.next.data)"
   ]
  },
  {
   "cell_type": "code",
   "execution_count": 28,
   "metadata": {},
   "outputs": [],
   "source": [
    "# traversing a linearly linked list \n",
    "def traversal(head):\n",
    "    cur_node = head \n",
    "    while cur_node is not None:\n",
    "        print(cur_node.data)\n",
    "        cur_node = cur_node.next"
   ]
  },
  {
   "cell_type": "code",
   "execution_count": 29,
   "metadata": {},
   "outputs": [
    {
     "name": "stdout",
     "output_type": "stream",
     "text": [
      "11\n",
      "52\n",
      "18\n"
     ]
    }
   ],
   "source": [
    "traversal(a)"
   ]
  },
  {
   "cell_type": "code",
   "execution_count": 31,
   "metadata": {},
   "outputs": [],
   "source": [
    "def unordered_search(head, target):\n",
    "    cur_node = head \n",
    "    while cur_node is not None and cur_node.data != target:\n",
    "        cur_node = cur_node.next\n",
    "    return cur_node is not None "
   ]
  },
  {
   "cell_type": "code",
   "execution_count": 32,
   "metadata": {},
   "outputs": [
    {
     "data": {
      "text/plain": [
       "False"
      ]
     },
     "execution_count": 32,
     "metadata": {},
     "output_type": "execute_result"
    }
   ],
   "source": [
    "unordered_search(a,20)"
   ]
  },
  {
   "cell_type": "code",
   "execution_count": 33,
   "metadata": {},
   "outputs": [
    {
     "data": {
      "text/plain": [
       "True"
      ]
     },
     "execution_count": 33,
     "metadata": {},
     "output_type": "execute_result"
    }
   ],
   "source": [
    "unordered_search(a,11)"
   ]
  },
  {
   "cell_type": "markdown",
   "metadata": {},
   "source": [
    "To prepend an item:\n",
    "\n",
    "new_node = list_node(item)\n",
    "\n",
    "new_node.next = head \n",
    "\n",
    "head = new_node"
   ]
  },
  {
   "cell_type": "markdown",
   "metadata": {},
   "source": [
    "## Bag ADT with a singly linked list"
   ]
  },
  {
   "cell_type": "code",
   "execution_count": 57,
   "metadata": {},
   "outputs": [],
   "source": [
    "class bag:\n",
    "    \n",
    "    #construct empty bag \n",
    "    def __init__(self):\n",
    "        self._head = None \n",
    "        self._size = 0\n",
    "    \n",
    "    # return number of items in bag \n",
    "    def __len__(self):\n",
    "        return self._size\n",
    "    \n",
    "    #check if item in bag, same as unordered search from above\n",
    "    def __contains__(self,target):\n",
    "        cur_node = self._head \n",
    "        while cur_node is not None and cur_node.data != target:\n",
    "            cur_node = cur_node.next\n",
    "        return cur_node is not None\n",
    "    \n",
    "    def add(self, item):\n",
    "        new_node = _bag_list_node(item) #defined below \n",
    "        new_node.next = self._head \n",
    "        self._head = new_node #move head left\n",
    "        self._size += 1 "
   ]
  },
  {
   "cell_type": "code",
   "execution_count": null,
   "metadata": {},
   "outputs": [],
   "source": []
  }
 ],
 "metadata": {
  "kernelspec": {
   "display_name": "Python 3",
   "language": "python",
   "name": "python3"
  },
  "language_info": {
   "codemirror_mode": {
    "name": "ipython",
    "version": 3
   },
   "file_extension": ".py",
   "mimetype": "text/x-python",
   "name": "python",
   "nbconvert_exporter": "python",
   "pygments_lexer": "ipython3",
   "version": "3.8.5"
  }
 },
 "nbformat": 4,
 "nbformat_minor": 4
}

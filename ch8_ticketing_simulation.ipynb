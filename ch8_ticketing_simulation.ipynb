{
 "cells": [
  {
   "cell_type": "code",
   "execution_count": 31,
   "metadata": {},
   "outputs": [],
   "source": [
    "from datetime import time\n",
    "%run ch8_queues.ipynb #includes l_queue class \n",
    "%run ch2_Arrays.ipynb #includes Array class "
   ]
  },
  {
   "cell_type": "code",
   "execution_count": 6,
   "metadata": {},
   "outputs": [],
   "source": [
    "class passenger:\n",
    "    \n",
    "    # passenger helper class \n",
    "    def __init__(self, _id, arrival_time):\n",
    "        self._id = _id\n",
    "        self.arrival_time\n",
    "        \n",
    "    #get id number\n",
    "    def id_num(self):\n",
    "        return self._id\n",
    "    \n",
    "    def time_arrived(self):\n",
    "        return self.arrival_time"
   ]
  },
  {
   "cell_type": "code",
   "execution_count": 24,
   "metadata": {},
   "outputs": [],
   "source": [
    "class ticket_agent:\n",
    "    \n",
    "    #create a ticket agent object\n",
    "    def __init__(self,_id):\n",
    "        self._id = _id\n",
    "        self._passenger = None\n",
    "        self._stop_time = -1\n",
    "    \n",
    "    #get agent's id \n",
    "    def id_num(self):\n",
    "        return self._id\n",
    "    \n",
    "    #determine if agent is free\n",
    "    def is_free(self):\n",
    "        return self._passenger == None\n",
    "    \n",
    "    #determine if finished helping customer \n",
    "    def is_finished(self,cur_time):\n",
    "        return self._passenger != None and self._stop_time == cur_time\n",
    "    \n",
    "    def start_service(self, passenger, stop_time):\n",
    "        self._passenger = passenger \n",
    "        self._stop_time = stop_time\n",
    "        \n",
    "    def stop_service(self):\n",
    "        passenger = self._passenger\n",
    "        self._passenger = None \n",
    "        return passenger"
   ]
  },
  {
   "cell_type": "code",
   "execution_count": 35,
   "metadata": {},
   "outputs": [],
   "source": [
    "class ticket_counter_sim:\n",
    "    \n",
    "    #create a sim object\n",
    "    def __init__(self, num_agents, num_minutes, between_time, service_time):\n",
    "        \n",
    "        self._arrive_prob = 1 / between_time\n",
    "        self._service_time = service_time\n",
    "        self._num_minutes = num_minutes\n",
    "        \n",
    "        #sim components\n",
    "        self._passenger_q = l_queue()\n",
    "        self._agents = Array(num_agents)\n",
    "        for i in range(num_agents):\n",
    "            self._agents[i] = ticket_agent(i+1)\n",
    "        \n",
    "        #compute during the sim \n",
    "        self._total_wait_time = 0\n",
    "        self._num_passengers = 0\n",
    "        \n",
    "    def run(self):\n",
    "        for cur_time in range(self.num_minutes + 1):\n",
    "            self._handle_arrival(cur_time)\n",
    "            self._handle_begin_service(cur_time)\n",
    "            self._hand_end_service(cur_time)\n",
    "            \n",
    "    def print_results(self):\n",
    "        num_served = self._num_passengers - len(self._passenger_q)\n",
    "        avg_wait = self._total_wait_time / num_served\n",
    "        print(\"\")\n",
    "        print(f\"number of passengers served = {num_served}\")\n",
    "        print(f\"numer of passengers remaining in line = {len(self._passenger_q)}\")\n",
    "        print(f\"the average wait time was {avg_wait} minutes\")\n",
    "\n",
    "            \n",
    "# The remaining methods that have yet to be implemented.\n",
    "# def _handle_arrival( cur_time ): # Handles simulation rule #1.\n",
    "# def _handle_begin_service( cur_time ): # Handles simulation rule #2.\n",
    "# def _hand_end_service( cur_time ): # Handles simulation rule #3."
   ]
  },
  {
   "cell_type": "code",
   "execution_count": null,
   "metadata": {},
   "outputs": [],
   "source": []
  }
 ],
 "metadata": {
  "kernelspec": {
   "display_name": "Python 3",
   "language": "python",
   "name": "python3"
  },
  "language_info": {
   "codemirror_mode": {
    "name": "ipython",
    "version": 3
   },
   "file_extension": ".py",
   "mimetype": "text/x-python",
   "name": "python",
   "nbconvert_exporter": "python",
   "pygments_lexer": "ipython3",
   "version": "3.8.5"
  }
 },
 "nbformat": 4,
 "nbformat_minor": 5
}

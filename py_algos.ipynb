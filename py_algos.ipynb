{
 "cells": [
  {
   "cell_type": "markdown",
   "metadata": {
    "heading_collapsed": true
   },
   "source": [
    "## Code Snippets"
   ]
  },
  {
   "cell_type": "code",
   "execution_count": 1,
   "metadata": {
    "hidden": true
   },
   "outputs": [],
   "source": [
    "import numpy as np "
   ]
  },
  {
   "cell_type": "code",
   "execution_count": 78,
   "metadata": {
    "hidden": true
   },
   "outputs": [],
   "source": [
    "m = np.random.rand(3,3)\n",
    "n = m.shape[0] \n",
    "\n",
    "m.sum()\n",
    "\n",
    "totalsum = 0\n",
    "rowsum = [i for i in range(n)] # initialize list to hold correct # of values "
   ]
  },
  {
   "cell_type": "code",
   "execution_count": 91,
   "metadata": {
    "hidden": true
   },
   "outputs": [],
   "source": [
    "%%timeit -n 100\n",
    "\n",
    "#version 1\n",
    "totalsum = 0\n",
    "# must be an n x n matrix\n",
    "for i in range(n):\n",
    "    rowsum[i] = 0\n",
    "    for j in range(n):\n",
    "        rowsum[i] += m[i,j]\n",
    "        totalsum += m[i,j]"
   ]
  },
  {
   "cell_type": "code",
   "execution_count": 76,
   "metadata": {
    "hidden": true
   },
   "outputs": [
    {
     "name": "stdout",
     "output_type": "stream",
     "text": [
      "1.9 ms ± 13.5 µs per loop (mean ± std. dev. of 7 runs, 100 loops each)\n"
     ]
    }
   ],
   "source": [
    "%%timeit -n 100\n",
    "\n",
    "totalSum = 0 # Version 2\n",
    "for i in range( n ) :\n",
    "    rowsum[i] = 0\n",
    "    for j in range( n ) :\n",
    "        rowsum[i] = rowsum[i] + m[i,j]\n",
    "    totalSum = totalSum + rowsum[i]"
   ]
  },
  {
   "cell_type": "code",
   "execution_count": 12,
   "metadata": {
    "hidden": true
   },
   "outputs": [
    {
     "name": "stdout",
     "output_type": "stream",
     "text": [
      "12.1 ns ± 0.0495 ns per loop (mean ± std. dev. of 7 runs, 1000 loops each)\n"
     ]
    }
   ],
   "source": [
    "%%timeit -n 1000\n",
    "a = 5"
   ]
  },
  {
   "cell_type": "code",
   "execution_count": 60,
   "metadata": {
    "hidden": true
   },
   "outputs": [
    {
     "data": {
      "text/plain": [
       "11.82945210362734"
      ]
     },
     "execution_count": 60,
     "metadata": {},
     "output_type": "execute_result"
    }
   ],
   "source": [
    "m.sum()"
   ]
  },
  {
   "cell_type": "markdown",
   "metadata": {
    "heading_collapsed": true
   },
   "source": [
    "## Big-O\n"
   ]
  },
  {
   "cell_type": "markdown",
   "metadata": {
    "hidden": true
   },
   "source": [
    "\n",
    "Such an algo has a time complexity of $f(n)$ if:\n",
    "\n",
    "$T(n) \\le c  f(n)$\n",
    " \n",
    "for $n > 0$ and some constant $c$ where $n \\ge m $\n",
    "\n",
    "$f(n)$ is the rate of growth at which the run time of the algo increases. \n",
    "\n",
    "Thus the time complexity is $O(f(n))$\n",
    "\n",
    "Example: \n",
    "\n",
    "earlier we had version 1 which had time of $T_1(n) = 2n^2$, if we let $c=2$ then we have: \n",
    "\n",
    "<center> $2n^2 \\le 2n^2$ \n",
    "    \n",
    "for a result of $O(n^2)$. Note the comparison to $T(n) \\le c  f(n)$"
   ]
  },
  {
   "cell_type": "markdown",
   "metadata": {
    "heading_collapsed": true
   },
   "source": [
    "## Constant of Proportionality"
   ]
  },
  {
   "cell_type": "markdown",
   "metadata": {
    "hidden": true
   },
   "source": [
    "The constant of proportionality is only crucial when two algorithms have the same $f(n)$. Suppose we have $L_1$ and $L_2$ which have run times of $n^2$ and $2n$ respectively. $L_1$ has $c=1$ and time complexity of $n^2$, while $L_2$ has $c=2$ and time complexity of $n$. The constants do not matter in this case because $n^2$ dominates the run time over $n$, regardless of the constant."
   ]
  },
  {
   "cell_type": "markdown",
   "metadata": {
    "heading_collapsed": true
   },
   "source": [
    "## More Code"
   ]
  },
  {
   "cell_type": "code",
   "execution_count": null,
   "metadata": {
    "hidden": true
   },
   "outputs": [],
   "source": []
  },
  {
   "cell_type": "markdown",
   "metadata": {
    "hidden": true
   },
   "source": [
    "When choosing the dominant function in the algorithm, look at what dominates as n grows large. Obviously n^2 dominates the below so it has $O(n^2)$"
   ]
  },
  {
   "cell_type": "markdown",
   "metadata": {
    "hidden": true
   },
   "source": [
    "import math as m"
   ]
  },
  {
   "cell_type": "code",
   "execution_count": 12,
   "metadata": {
    "hidden": true
   },
   "outputs": [],
   "source": [
    "f = lambda n : n ** 2 + m.log(n) + 3 * n"
   ]
  },
  {
   "cell_type": "code",
   "execution_count": 18,
   "metadata": {
    "hidden": true
   },
   "outputs": [
    {
     "name": "stdout",
     "output_type": "stream",
     "text": [
      "first term:  200 \n",
      " second term:  4.605170185988092 \n",
      " third term:  6\n"
     ]
    }
   ],
   "source": [
    "print('first term: ', 100*2,'\\n',\n",
    "      'second term: ', m.log(100),'\\n',\n",
    "      'third term: ', 3*2)"
   ]
  },
  {
   "cell_type": "code",
   "execution_count": 20,
   "metadata": {
    "hidden": true
   },
   "outputs": [],
   "source": [
    "#p.103"
   ]
  },
  {
   "cell_type": "markdown",
   "metadata": {
    "hidden": true
   },
   "source": [
    "The below two are basic operations since they require basically the same time regardless of variable type or values of data"
   ]
  },
  {
   "cell_type": "code",
   "execution_count": 1,
   "metadata": {
    "hidden": true
   },
   "outputs": [
    {
     "name": "stdout",
     "output_type": "stream",
     "text": [
      "10.8 ns ± 0.0113 ns per loop (mean ± std. dev. of 7 runs, 100000000 loops each)\n"
     ]
    }
   ],
   "source": [
    "%%timeit \n",
    "\n",
    "a = 100"
   ]
  },
  {
   "cell_type": "code",
   "execution_count": 2,
   "metadata": {
    "hidden": true
   },
   "outputs": [
    {
     "name": "stdout",
     "output_type": "stream",
     "text": [
      "10.8 ns ± 0.0143 ns per loop (mean ± std. dev. of 7 runs, 100000000 loops each)\n"
     ]
    }
   ],
   "source": [
    "%%timeit \n",
    "\n",
    "a = 'yes'"
   ]
  },
  {
   "cell_type": "markdown",
   "metadata": {
    "heading_collapsed": true
   },
   "source": [
    "## Linear Time examples"
   ]
  },
  {
   "cell_type": "markdown",
   "metadata": {
    "hidden": true
   },
   "source": [
    "Below has equation $T(n) = n * 1$ thus $O(n)$"
   ]
  },
  {
   "cell_type": "code",
   "execution_count": 3,
   "metadata": {
    "hidden": true
   },
   "outputs": [],
   "source": [
    "#the below has O(n) \n",
    "def ex1(n):\n",
    "    total = 0 #1 \n",
    "    for i in range(n): #1 for each iteration, thus complexity of n, so it's linear \n",
    "        total += i #1\n",
    "    return total #1"
   ]
  },
  {
   "cell_type": "code",
   "execution_count": 5,
   "metadata": {
    "hidden": true
   },
   "outputs": [
    {
     "data": {
      "text/plain": [
       "4950"
      ]
     },
     "execution_count": 5,
     "metadata": {},
     "output_type": "execute_result"
    }
   ],
   "source": [
    "n = 100 \n",
    "y = ex1(n)\n",
    "y"
   ]
  },
  {
   "cell_type": "markdown",
   "metadata": {
    "hidden": true
   },
   "source": [
    "The below has two loops, thus $T(n) = n + n = 2n$ for a time complexity of $O(n)$"
   ]
  },
  {
   "cell_type": "code",
   "execution_count": null,
   "metadata": {
    "hidden": true
   },
   "outputs": [],
   "source": [
    "def ex2(n):\n",
    "    count = 0\n",
    "    for i in range(n):\n",
    "        count += 1\n",
    "    for j in range(n):\n",
    "        count += 1\n",
    "    return count"
   ]
  },
  {
   "cell_type": "markdown",
   "metadata": {
    "heading_collapsed": true
   },
   "source": [
    "## More Examples"
   ]
  },
  {
   "cell_type": "markdown",
   "metadata": {
    "hidden": true
   },
   "source": [
    "Below is $O(n^2)$ because it has a nested loop, there are $n$ iterations for each $n$, $n*n = n^2$"
   ]
  },
  {
   "cell_type": "code",
   "execution_count": 8,
   "metadata": {
    "hidden": true
   },
   "outputs": [],
   "source": [
    "def ex3(n): \n",
    "    count = 0 \n",
    "    for i in range(n):\n",
    "        for j in range(n):\n",
    "            count += 1\n",
    "    return count"
   ]
  },
  {
   "cell_type": "markdown",
   "metadata": {
    "hidden": true
   },
   "source": [
    "However, look at this example which only has $O(n)$"
   ]
  },
  {
   "cell_type": "code",
   "execution_count": 10,
   "metadata": {
    "hidden": true,
    "scrolled": true
   },
   "outputs": [],
   "source": [
    "def ex4(n):\n",
    "    count = 0\n",
    "    for i in range(n): #outer loop has n\n",
    "        for j in range(25): #this just has a constant step cost \n",
    "            count += 1\n",
    "    return count"
   ]
  },
  {
   "cell_type": "markdown",
   "metadata": {
    "hidden": true
   },
   "source": [
    "Special case of nested loop below.\n",
    "\n",
    "$T(n) = \\frac{n(n+1)}{2}$ \n",
    "\n",
    "which is just the sum of the positive n integers, a common formula: https://www.cuemath.com/sum-of-integers-formula/"
   ]
  },
  {
   "cell_type": "code",
   "execution_count": 19,
   "metadata": {
    "hidden": true
   },
   "outputs": [],
   "source": [
    "def ex5(n):\n",
    "    count = 0\n",
    "    for i in range(n):\n",
    "        print(\"i:\",i)\n",
    "        for j in range(1+i):\n",
    "            print(\"j:\",j)\n",
    "            count += 1\n",
    "            print(\"count:\",count)\n",
    "    return count "
   ]
  },
  {
   "cell_type": "code",
   "execution_count": 26,
   "metadata": {
    "hidden": true
   },
   "outputs": [
    {
     "name": "stdout",
     "output_type": "stream",
     "text": [
      "i: 0\n",
      "j: 0\n",
      "count: 1\n",
      "i: 1\n",
      "j: 0\n",
      "count: 2\n",
      "j: 1\n",
      "count: 3\n",
      "i: 2\n",
      "j: 0\n",
      "count: 4\n",
      "j: 1\n",
      "count: 5\n",
      "j: 2\n",
      "count: 6\n"
     ]
    },
    {
     "data": {
      "text/plain": [
       "6"
      ]
     },
     "execution_count": 26,
     "metadata": {},
     "output_type": "execute_result"
    }
   ],
   "source": [
    "ex5(3)"
   ]
  },
  {
   "cell_type": "markdown",
   "metadata": {
    "hidden": true
   },
   "source": [
    "Logarithmic example:\n",
    "\n",
    "When the size of the input is reduced by half in each subsequent iteration, the number of iterations required to reach a size of one will be equal to $log_2(n) + 1$\n",
    "\n",
    "Recall: $log_2(x) = a$ is just $2^a = x$\n",
    "\n",
    "$log_2(16) = 2^a = 16 = 2^4$"
   ]
  },
  {
   "cell_type": "code",
   "execution_count": 35,
   "metadata": {
    "hidden": true
   },
   "outputs": [],
   "source": [
    "def ex6(n):\n",
    "    count = 0\n",
    "    i = n\n",
    "    while i >= 1:\n",
    "        count += 1\n",
    "        i = i // 2\n",
    "        print(\"count: \", count, \"i: \",i)\n",
    "    return count"
   ]
  },
  {
   "cell_type": "code",
   "execution_count": 36,
   "metadata": {
    "hidden": true
   },
   "outputs": [
    {
     "name": "stdout",
     "output_type": "stream",
     "text": [
      "count:  1 i:  8\n",
      "count:  2 i:  4\n",
      "count:  3 i:  2\n",
      "count:  4 i:  1\n",
      "count:  5 i:  0\n"
     ]
    },
    {
     "data": {
      "text/plain": [
       "5"
      ]
     },
     "execution_count": 36,
     "metadata": {},
     "output_type": "execute_result"
    }
   ],
   "source": [
    "ex6(16)"
   ]
  },
  {
   "cell_type": "markdown",
   "metadata": {
    "hidden": true
   },
   "source": [
    "Based on our previous log example: the below loop is just calling ex6, so with n repetitions of the loop we have $O(n log(n))$"
   ]
  },
  {
   "cell_type": "code",
   "execution_count": 37,
   "metadata": {
    "hidden": true
   },
   "outputs": [],
   "source": [
    "def ex7(n):\n",
    "    count = 0\n",
    "    for i in range(n):\n",
    "        count += ex6(n)\n",
    "    return count"
   ]
  },
  {
   "cell_type": "code",
   "execution_count": null,
   "metadata": {
    "hidden": true
   },
   "outputs": [],
   "source": [
    "#p.110 and p.42"
   ]
  },
  {
   "cell_type": "code",
   "execution_count": 47,
   "metadata": {
    "hidden": true
   },
   "outputs": [
    {
     "data": {
      "text/plain": [
       "[1, None, 3, 3, 4, 2]"
      ]
     },
     "execution_count": 47,
     "metadata": {},
     "output_type": "execute_result"
    }
   ],
   "source": [
    "a = [1,None,3]\n",
    "a.extend([3,4,2])\n",
    "a"
   ]
  },
  {
   "cell_type": "code",
   "execution_count": 50,
   "metadata": {
    "hidden": true
   },
   "outputs": [],
   "source": [
    "a[1] = 3"
   ]
  },
  {
   "cell_type": "code",
   "execution_count": 51,
   "metadata": {
    "hidden": true
   },
   "outputs": [
    {
     "data": {
      "text/plain": [
       "[1, 3, 3, 3, 4, 2]"
      ]
     },
     "execution_count": 51,
     "metadata": {},
     "output_type": "execute_result"
    }
   ],
   "source": [
    "a"
   ]
  },
  {
   "cell_type": "markdown",
   "metadata": {},
   "source": [
    "## Let's try actually implementing one of the ADTs"
   ]
  },
  {
   "cell_type": "code",
   "execution_count": 159,
   "metadata": {},
   "outputs": [],
   "source": [
    "#list based implementation of the set ADT\n",
    "class set_adt:\n",
    "    \n",
    "    #3.2 accomplished\n",
    "    def __init__(self, *init_elements):\n",
    "        self._theElements = list()\n",
    "        self._theElements.extend(init_elements)\n",
    "        \n",
    "    \n",
    "    def __len__(self):\n",
    "        return len(self._theElements)\n",
    "    \n",
    "    def __contains__(self, element):\n",
    "        return element in self._theElements\n",
    "    \n",
    "    def add(self, element):\n",
    "        if element not in self:\n",
    "            self._theElements.append(element)\n",
    "    \n",
    "    def remove(self,element):\n",
    "        assert element in self, \"element must be in set\"\n",
    "        self._theElements.remove(element)\n",
    "    \n",
    "    def print_contents(self):\n",
    "        print(self._theElements)\n",
    "        \n",
    "    def __eq__(self,setB):\n",
    "        if len(self) != len(setB):\n",
    "            return False\n",
    "        else:\n",
    "            return self.isSubsetOf(setB)\n",
    "    \n",
    "    def isSubsetOf(self,setB):\n",
    "        for element in self:\n",
    "            if element not in setB:\n",
    "                return False\n",
    "        return True\n",
    "    \n",
    "    def union(self,setB):\n",
    "        newSet = set_adt()\n",
    "        newSet._theElements.extend(self._theElements)\n",
    "        for element in setB:\n",
    "            if element not in self: \n",
    "                newSet._theElements.append(element)\n",
    "        return newSet\n",
    "    \n",
    "    def intersect(self,setB):\n",
    "        pass\n",
    "    \n",
    "    def difference(self,setB):\n",
    "        pass\n",
    "    \n",
    "    #3.8 here and in class below\n",
    "    def __iter__(self):\n",
    "        return _SetIterator(self._theElements) #we have to define this somewhere\n",
    "    \n",
    "class _SetIterator:\n",
    "\n",
    "    def __init__(self, elements):\n",
    "        self.current = 0 \n",
    "        self.elements = elements\n",
    "        self.high = len(elements)\n",
    "        \n",
    "    def __iter__(self):\n",
    "        return self\n",
    "\n",
    "    def __next__(self):\n",
    "\n",
    "    #I think we need a subscript method to select a single element from above class \n",
    "        \n",
    "        self.current += 1\n",
    "        if self.current <= self.high:\n",
    "            return self.elements\n",
    "        raise StopIteration"
   ]
  },
  {
   "cell_type": "code",
   "execution_count": 160,
   "metadata": {},
   "outputs": [],
   "source": [
    "a = set_adt()\n",
    "a.add(4)\n",
    "\n",
    "b = set_adt()\n",
    "b.add(4)\n",
    "b.add(5)\n"
   ]
  },
  {
   "cell_type": "code",
   "execution_count": 162,
   "metadata": {},
   "outputs": [
    {
     "name": "stdout",
     "output_type": "stream",
     "text": [
      "[1, 4, 3, 2]\n"
     ]
    }
   ],
   "source": [
    "a = set_adt(1,4,3,2)\n",
    "a.print_contents()"
   ]
  },
  {
   "cell_type": "code",
   "execution_count": 163,
   "metadata": {},
   "outputs": [
    {
     "name": "stdout",
     "output_type": "stream",
     "text": [
      "[1, 4, 3, 2]\n"
     ]
    }
   ],
   "source": [
    "a.print_contents()"
   ]
  },
  {
   "cell_type": "code",
   "execution_count": 164,
   "metadata": {},
   "outputs": [
    {
     "name": "stdout",
     "output_type": "stream",
     "text": [
      "[1, 4, 3, 2]\n",
      "[1, 4, 3, 2]\n",
      "[1, 4, 3, 2]\n",
      "[1, 4, 3, 2]\n"
     ]
    }
   ],
   "source": [
    "for i in a:\n",
    "    print(i)"
   ]
  },
  {
   "cell_type": "markdown",
   "metadata": {},
   "source": [
    "## Sparse Matrices\n",
    "\n",
    "We'll define the class below then work with it to determine algo complexity"
   ]
  },
  {
   "cell_type": "code",
   "execution_count": null,
   "metadata": {},
   "outputs": [],
   "source": [
    "class sparse_matrix:\n",
    "    \n",
    "    \n",
    "    #create a spares matrix of size numrwos x numcols init to 0\n",
    "    def __init__(self, numrows, numcols):\n",
    "        self._numrows = numrows\n",
    "        self._numcols = numcols\n",
    "        self._elementlist = list()\n",
    "        \n",
    "    def numrows(self):\n",
    "        return self._numrows\n",
    "    \n",
    "    def numcols(self): \n",
    "        return self._numcols\n",
    "    \n",
    "    #return item at x[i,j] or (i,j)\n",
    "    def __getitem__(self, ndxtuple):\n",
    "        pass\n",
    "    \n",
    "    #set value of item at  x[i,j] or (i,j)\n",
    "    def __setitem__(self, ndxtuple, scalar):\n",
    "        ndx = self.findposition(ndxtuple[0], ndxtuple[1])\n",
    "        if ndx is not None:\n",
    "            if scalar != 0.0:\n",
    "                self._elementlist[ndx].value = scalar\n",
    "            else:\n",
    "                self._elementlist.pop(ndx) #remove item at ndx location\n",
    "        else:\n",
    "            if scalar != 0.0:\n",
    "                element = _matrixelement(ndxtuple[0],ndxtuple[1], scalar)\n",
    "                "
   ]
  },
  {
   "cell_type": "code",
   "execution_count": null,
   "metadata": {},
   "outputs": [],
   "source": []
  }
 ],
 "metadata": {
  "kernelspec": {
   "display_name": "Python 3",
   "language": "python",
   "name": "python3"
  },
  "language_info": {
   "codemirror_mode": {
    "name": "ipython",
    "version": 3
   },
   "file_extension": ".py",
   "mimetype": "text/x-python",
   "name": "python",
   "nbconvert_exporter": "python",
   "pygments_lexer": "ipython3",
   "version": "3.8.5"
  }
 },
 "nbformat": 4,
 "nbformat_minor": 5
}

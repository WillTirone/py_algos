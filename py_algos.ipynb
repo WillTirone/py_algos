{
 "cells": [
  {
   "cell_type": "markdown",
   "id": "3bb87ea6",
   "metadata": {},
   "source": [
    "Exercises, p. 28"
   ]
  },
  {
   "cell_type": "code",
   "execution_count": 8,
   "id": "2dbfafd8",
   "metadata": {},
   "outputs": [],
   "source": [
    "#listing 1.2 on p. 12\n",
    "class Date: \n",
    "    \n",
    "    def __init__(self,month,day,year):\n",
    "        self._julianDay = 0 \n",
    "        \n",
    "        #need to implement this\n",
    "        assert self._isValidGregorian(month,day,year), \\\n",
    "                \"invalid\"\n",
    "        \n",
    "        #date conversion to julian\n",
    "        tmp = 0 \n",
    "        if month < 3:\n",
    "            tmp = -1\n",
    "        self._julianDay = day - 32075 + \\\n",
    "            (1461 * (year + 4800 + tmp) // 4) + \\\n",
    "            (367 * (month - 2 - tmp * 12) // 12) - \\\n",
    "            (3 * ((year + 4900 + tmp) // 100) // 4)\n",
    "        \n",
    "    def month(self):\n",
    "        return (self._toGregorian())[0] # returning M from (M, d, y)\n",
    "    \n",
    "    def day(self): \n",
    "        return (self._toGregorian())[1] # returning d from (M, d, y)\n",
    "    \n",
    "    def year(self):\n",
    "        return (self._toGregorian())[2] # returning Y from (m, d, Y) \n",
    "    \n",
    "    #return day of week as 0 to 6 for Mon. through Sun. \n",
    "    def dayofweek(self):\n",
    "        month, day, year = self._toGregorian()\n",
    "        if month < 3:\n",
    "            month = month + 12\n",
    "            year = year - 1\n",
    "            return ((13 * month + 3) // 5 + day + \\\n",
    "                    year + year // 4 - year // 100 + year // 400) % 7\n",
    "    \n",
    "    #returns date as a string in gregorian format\n",
    "    def __str__(self): \n",
    "        month, day, year = self._toGregorian()\n",
    "        return f'{month}, {day}, {year}' #changed to an f string \n",
    "    \n",
    "    #compares two days\n",
    "    def __eq__(self, otherDate): \n",
    "        return self._julianDay == otherDate._julianDay\n",
    "    \n",
    "    def __lt__(self, otherDate):\n",
    "        return self.julianDay < otherDate._julianDay\n",
    "    \n",
    "    def __le__(self, otherDate):\n",
    "        return self._julianDay <= otherDate._julianDay\n",
    "    \n",
    "    #remaining methods implemented here\n",
    "    #. . . \n",
    "    \n",
    "    def _toGregorian(self):\n",
    "        A = self._julianDay + 68569\n",
    "        B = 4 * A // 146097\n",
    "        A = A - (146097 + B + 3) // 4\n",
    "        year = 4000 * (A + 1) // 1461001\n",
    "        A = A - (1461 * year // 4) + 31\n",
    "        month = 80 * A // 2447\n",
    "        day = A - (2447 * month // 80)\n",
    "        A = month // 11\n",
    "        month = month + 2 - (12 * A)\n",
    "        year = 100 * (B - 49) + year + A\n",
    "        return month, day, year"
   ]
  },
  {
   "cell_type": "code",
   "execution_count": 4,
   "id": "4bb36bbd",
   "metadata": {
    "scrolled": true
   },
   "outputs": [
    {
     "ename": "AttributeError",
     "evalue": "'Date' object has no attribute '_isValidGregorian'",
     "output_type": "error",
     "traceback": [
      "\u001b[1;31m---------------------------------------------------------------------------\u001b[0m",
      "\u001b[1;31mAttributeError\u001b[0m                            Traceback (most recent call last)",
      "\u001b[1;32mC:\\Users\\WILLTI~1\\AppData\\Local\\Temp/ipykernel_16888/421694472.py\u001b[0m in \u001b[0;36m<module>\u001b[1;34m\u001b[0m\n\u001b[1;32m----> 1\u001b[1;33m \u001b[0md\u001b[0m \u001b[1;33m=\u001b[0m \u001b[0mDate\u001b[0m\u001b[1;33m(\u001b[0m\u001b[1;36m3\u001b[0m\u001b[1;33m,\u001b[0m\u001b[1;36m4\u001b[0m\u001b[1;33m,\u001b[0m\u001b[1;36m2012\u001b[0m\u001b[1;33m)\u001b[0m\u001b[1;33m\u001b[0m\u001b[1;33m\u001b[0m\u001b[0m\n\u001b[0m",
      "\u001b[1;32mC:\\Users\\WILLTI~1\\AppData\\Local\\Temp/ipykernel_16888/1925382236.py\u001b[0m in \u001b[0;36m__init__\u001b[1;34m(self, month, day, year)\u001b[0m\n\u001b[0;32m      2\u001b[0m     \u001b[1;32mdef\u001b[0m \u001b[0m__init__\u001b[0m\u001b[1;33m(\u001b[0m\u001b[0mself\u001b[0m\u001b[1;33m,\u001b[0m\u001b[0mmonth\u001b[0m\u001b[1;33m,\u001b[0m\u001b[0mday\u001b[0m\u001b[1;33m,\u001b[0m\u001b[0myear\u001b[0m\u001b[1;33m)\u001b[0m\u001b[1;33m:\u001b[0m\u001b[1;33m\u001b[0m\u001b[1;33m\u001b[0m\u001b[0m\n\u001b[0;32m      3\u001b[0m         \u001b[0mself\u001b[0m\u001b[1;33m.\u001b[0m\u001b[0m_julianDay\u001b[0m \u001b[1;33m=\u001b[0m \u001b[1;36m0\u001b[0m\u001b[1;33m\u001b[0m\u001b[1;33m\u001b[0m\u001b[0m\n\u001b[1;32m----> 4\u001b[1;33m         \u001b[1;32massert\u001b[0m \u001b[0mself\u001b[0m\u001b[1;33m.\u001b[0m\u001b[0m_isValidGregorian\u001b[0m\u001b[1;33m(\u001b[0m\u001b[0mmonth\u001b[0m\u001b[1;33m,\u001b[0m\u001b[0mday\u001b[0m\u001b[1;33m,\u001b[0m\u001b[0myear\u001b[0m\u001b[1;33m)\u001b[0m\u001b[1;33m,\u001b[0m\u001b[0;31m \u001b[0m\u001b[0;31m\\\u001b[0m\u001b[1;33m\u001b[0m\u001b[1;33m\u001b[0m\u001b[0m\n\u001b[0m\u001b[0;32m      5\u001b[0m                 \u001b[1;34m\"invalid\"\u001b[0m\u001b[1;33m\u001b[0m\u001b[1;33m\u001b[0m\u001b[0m\n",
      "\u001b[1;31mAttributeError\u001b[0m: 'Date' object has no attribute '_isValidGregorian'"
     ]
    }
   ],
   "source": [
    "d = Date(3,4,2012)"
   ]
  }
 ],
 "metadata": {
  "kernelspec": {
   "display_name": "Python 3 (ipykernel)",
   "language": "python",
   "name": "python3"
  },
  "language_info": {
   "codemirror_mode": {
    "name": "ipython",
    "version": 3
   },
   "file_extension": ".py",
   "mimetype": "text/x-python",
   "name": "python",
   "nbconvert_exporter": "python",
   "pygments_lexer": "ipython3",
   "version": "3.8.11"
  }
 },
 "nbformat": 4,
 "nbformat_minor": 5
}

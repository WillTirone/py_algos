{
 "cells": [
  {
   "cell_type": "code",
   "execution_count": 1,
   "id": "b507adb3",
   "metadata": {},
   "outputs": [],
   "source": [
    "import numpy as np "
   ]
  },
  {
   "cell_type": "code",
   "execution_count": 78,
   "id": "20961427",
   "metadata": {},
   "outputs": [],
   "source": [
    "m = np.random.rand(3,3)\n",
    "n = m.shape[0] \n",
    "\n",
    "m.sum()\n",
    "\n",
    "totalsum = 0\n",
    "rowsum = [i for i in range(n)] # initialize list to hold correct # of values "
   ]
  },
  {
   "cell_type": "code",
   "execution_count": 91,
   "id": "2ae8a88a",
   "metadata": {},
   "outputs": [],
   "source": [
    "%%timeit -n 100\n",
    "\n",
    "totalsum = 0\n",
    "# must be an n x n matrix\n",
    "for i in range(n):\n",
    "    rowsum[i] = 0\n",
    "    for j in range(n):\n",
    "        rowsum[i] += m[i,j]\n",
    "        totalsum += m[i,j]"
   ]
  },
  {
   "cell_type": "code",
   "execution_count": 76,
   "id": "63bc5f78",
   "metadata": {},
   "outputs": [
    {
     "name": "stdout",
     "output_type": "stream",
     "text": [
      "1.9 ms ± 13.5 µs per loop (mean ± std. dev. of 7 runs, 100 loops each)\n"
     ]
    }
   ],
   "source": [
    "%%timeit -n 100\n",
    "\n",
    "totalSum = 0 # Version 2\n",
    "for i in range( n ) :\n",
    "    rowsum[i] = 0\n",
    "    for j in range( n ) :\n",
    "        rowsum[i] = rowsum[i] + m[i,j]\n",
    "    totalSum = totalSum + rowsum[i]"
   ]
  },
  {
   "cell_type": "code",
   "execution_count": 12,
   "id": "d727881c",
   "metadata": {},
   "outputs": [
    {
     "name": "stdout",
     "output_type": "stream",
     "text": [
      "12.1 ns ± 0.0495 ns per loop (mean ± std. dev. of 7 runs, 1000 loops each)\n"
     ]
    }
   ],
   "source": [
    "%%timeit -n 1000\n",
    "a = 5"
   ]
  },
  {
   "cell_type": "code",
   "execution_count": 60,
   "id": "f6e74980",
   "metadata": {},
   "outputs": [
    {
     "data": {
      "text/plain": [
       "11.82945210362734"
      ]
     },
     "execution_count": 60,
     "metadata": {},
     "output_type": "execute_result"
    }
   ],
   "source": [
    "m.sum()"
   ]
  },
  {
   "cell_type": "code",
   "execution_count": null,
   "id": "2e17e9e9",
   "metadata": {},
   "outputs": [],
   "source": []
  }
 ],
 "metadata": {
  "kernelspec": {
   "display_name": "Python 3 (ipykernel)",
   "language": "python",
   "name": "python3"
  },
  "language_info": {
   "codemirror_mode": {
    "name": "ipython",
    "version": 3
   },
   "file_extension": ".py",
   "mimetype": "text/x-python",
   "name": "python",
   "nbconvert_exporter": "python",
   "pygments_lexer": "ipython3",
   "version": "3.8.11"
  }
 },
 "nbformat": 4,
 "nbformat_minor": 5
}

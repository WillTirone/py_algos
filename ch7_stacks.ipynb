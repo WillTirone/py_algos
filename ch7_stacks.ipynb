{
 "cells": [
  {
   "cell_type": "markdown",
   "id": "ef6e1dfb",
   "metadata": {
    "heading_collapsed": true
   },
   "source": [
    "## list-based stack implementation"
   ]
  },
  {
   "cell_type": "code",
   "execution_count": 10,
   "id": "901a3013",
   "metadata": {
    "hidden": true
   },
   "outputs": [],
   "source": [
    "class stack: \n",
    "    \n",
    "    def __init__(self,items=None):\n",
    "        self._the_items = list(items)\n",
    "        \n",
    "    def is_empty(self):\n",
    "        return len(self) == 0\n",
    "    \n",
    "    def __len__(self):\n",
    "        return len(self._the_items)\n",
    "    \n",
    "    # return top item without removing it\n",
    "    def peek(self):\n",
    "        try:\n",
    "            return self._the_items[-1]\n",
    "        except:\n",
    "            raise ValueError(\"can't peek at an empty stack\")\n",
    "    \n",
    "    def pop(self):\n",
    "        try:\n",
    "            self._the_items.pop()\n",
    "        except:\n",
    "            raise ValueError(\"can't pop an empty stack\")\n",
    "    \n",
    "    def push(self,item):\n",
    "        self._the_items.append(item)"
   ]
  },
  {
   "cell_type": "code",
   "execution_count": 12,
   "id": "9939eb11",
   "metadata": {
    "hidden": true,
    "scrolled": true
   },
   "outputs": [
    {
     "data": {
      "text/plain": [
       "3"
      ]
     },
     "execution_count": 12,
     "metadata": {},
     "output_type": "execute_result"
    }
   ],
   "source": [
    "a = stack([1,2,3])\n",
    "a.peek()"
   ]
  },
  {
   "cell_type": "markdown",
   "id": "2a1bb647",
   "metadata": {},
   "source": [
    "## linked-list stack implementation"
   ]
  },
  {
   "cell_type": "code",
   "execution_count": null,
   "id": "a3b16217",
   "metadata": {},
   "outputs": [],
   "source": [
    "class stack:\n",
    "    \n",
    "    #create empty stack\n",
    "    def __init__(stack):\n",
    "        self._top = None\n",
    "        self._size = 0 "
   ]
  }
 ],
 "metadata": {
  "kernelspec": {
   "display_name": "Python 3 (ipykernel)",
   "language": "python",
   "name": "python3"
  },
  "language_info": {
   "codemirror_mode": {
    "name": "ipython",
    "version": 3
   },
   "file_extension": ".py",
   "mimetype": "text/x-python",
   "name": "python",
   "nbconvert_exporter": "python",
   "pygments_lexer": "ipython3",
   "version": "3.8.11"
  }
 },
 "nbformat": 4,
 "nbformat_minor": 5
}

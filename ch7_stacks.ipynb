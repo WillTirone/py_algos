{
 "cells": [
  {
   "cell_type": "markdown",
   "metadata": {
    "heading_collapsed": true
   },
   "source": [
    "## list-based stack implementation"
   ]
  },
  {
   "cell_type": "code",
   "execution_count": 10,
   "metadata": {
    "hidden": true
   },
   "outputs": [],
   "source": [
    "class list_stack: \n",
    "    \n",
    "    def __init__(self,items=None):\n",
    "        self._the_items = list(items)\n",
    "        \n",
    "    def is_empty(self):\n",
    "        return len(self) == 0\n",
    "    \n",
    "    def __len__(self):\n",
    "        return len(self._the_items)\n",
    "    \n",
    "    # return top item without removing it\n",
    "    def peek(self):\n",
    "        try:\n",
    "            return self._the_items[-1]\n",
    "        except:\n",
    "            raise ValueError(\"can't peek at an empty stack\")\n",
    "    \n",
    "    def pop(self):\n",
    "        try:\n",
    "            self._the_items.pop()\n",
    "        except:\n",
    "            raise ValueError(\"can't pop an empty stack\")\n",
    "    \n",
    "    def push(self,item):\n",
    "        self._the_items.append(item)"
   ]
  },
  {
   "cell_type": "code",
   "execution_count": 12,
   "metadata": {
    "hidden": true,
    "scrolled": true
   },
   "outputs": [
    {
     "data": {
      "text/plain": [
       "3"
      ]
     },
     "execution_count": 12,
     "metadata": {},
     "output_type": "execute_result"
    }
   ],
   "source": [
    "a = stack([1,2,3])\n",
    "a.peek()"
   ]
  },
  {
   "cell_type": "markdown",
   "metadata": {},
   "source": [
    "## linked-list stack implementation"
   ]
  },
  {
   "cell_type": "code",
   "execution_count": 51,
   "metadata": {},
   "outputs": [],
   "source": [
    "class stack:\n",
    "    \n",
    "    #create empty stack\n",
    "    def __init__(self, *items):\n",
    "        self._top = None\n",
    "        self._size = 0\n",
    "        for i in items:\n",
    "            self.push(i)\n",
    "        \n",
    "    def __repr__(self):\n",
    "        return 'a single-linked list stack'\n",
    "    \n",
    "    def is_empty(self):\n",
    "        return self._top is None \n",
    "    \n",
    "    def __len__(self):\n",
    "        return self._size\n",
    "    \n",
    "    def peek(self):\n",
    "        assert not self.is_empty(), \"can't peek at empty stack\"\n",
    "        return self._top.item\n",
    "    \n",
    "    def pop(self):\n",
    "        assert not self.is_empty(), \"can't pop from empty stack\"\n",
    "        node = self._top\n",
    "        self._top = self._top.next\n",
    "        self._size -= 1\n",
    "        return node.item\n",
    "    \n",
    "    def push(self,item):\n",
    "        self._top = _stack_node(item,self._top)\n",
    "        self._size += 1\n",
    "        \n",
    "class _stack_node:\n",
    "    \n",
    "    def __init__(self,item,link):\n",
    "        self.item = item\n",
    "        self.next = link"
   ]
  },
  {
   "cell_type": "code",
   "execution_count": 58,
   "metadata": {},
   "outputs": [
    {
     "data": {
      "text/plain": [
       "7"
      ]
     },
     "execution_count": 58,
     "metadata": {},
     "output_type": "execute_result"
    }
   ],
   "source": [
    "b = stack(1,2,3,5,6,7)\n",
    "b.peek()"
   ]
  },
  {
   "cell_type": "code",
   "execution_count": 62,
   "metadata": {
    "scrolled": true
   },
   "outputs": [
    {
     "data": {
      "text/plain": [
       "5"
      ]
     },
     "execution_count": 62,
     "metadata": {},
     "output_type": "execute_result"
    }
   ],
   "source": [
    "len(b)"
   ]
  },
  {
   "cell_type": "code",
   "execution_count": 83,
   "metadata": {},
   "outputs": [],
   "source": [
    "def valid_expression(text):\n",
    "    s = stack()\n",
    "    for token in text:\n",
    "        if token in \"{([\":\n",
    "            s.push(token)\n",
    "        elif token in \"})]\":\n",
    "            if s.is_empty():\n",
    "                return False\n",
    "            else:\n",
    "                left = s.pop()\n",
    "                if (token == \"}\" and left != \"{\") or \\\n",
    "                   (token == \"]\" and left != \"[\") or \\\n",
    "                   (token == \")\" and left != \"(\"):\n",
    "                    return False\n",
    "                    \n",
    "    return s.is_empty()"
   ]
  },
  {
   "cell_type": "code",
   "execution_count": 87,
   "metadata": {},
   "outputs": [
    {
     "data": {
      "text/plain": [
       "True"
      ]
     },
     "execution_count": 87,
     "metadata": {},
     "output_type": "execute_result"
    }
   ],
   "source": [
    "expr = \"(A + x / [24 + b] - {200})\" # valid \n",
    "valid_expression(expr)"
   ]
  },
  {
   "cell_type": "code",
   "execution_count": 88,
   "metadata": {},
   "outputs": [
    {
     "data": {
      "text/plain": [
       "False"
      ]
     },
     "execution_count": 88,
     "metadata": {},
     "output_type": "execute_result"
    }
   ],
   "source": [
    "inv_expr = \"{(A + x / [24 + b] - {200})\" #open curly bracket at beginning\n",
    "valid_expression(inv_expr)"
   ]
  },
  {
   "cell_type": "code",
   "execution_count": null,
   "metadata": {},
   "outputs": [],
   "source": []
  }
 ],
 "metadata": {
  "kernelspec": {
   "display_name": "Python 3",
   "language": "python",
   "name": "python3"
  },
  "language_info": {
   "codemirror_mode": {
    "name": "ipython",
    "version": 3
   },
   "file_extension": ".py",
   "mimetype": "text/x-python",
   "name": "python",
   "nbconvert_exporter": "python",
   "pygments_lexer": "ipython3",
   "version": "3.8.5"
  }
 },
 "nbformat": 4,
 "nbformat_minor": 5
}

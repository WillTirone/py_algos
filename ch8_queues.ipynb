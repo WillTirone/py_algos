{
 "cells": [
  {
   "cell_type": "markdown",
   "metadata": {},
   "source": [
    "## Queues"
   ]
  },
  {
   "cell_type": "code",
   "execution_count": 1,
   "metadata": {},
   "outputs": [],
   "source": [
    "#queue ADT using a list \n",
    "class l_queue:\n",
    "    \n",
    "    #create empty queue\n",
    "    def __init__(self):\n",
    "        self._q_list = list() \n",
    "        \n",
    "    #return True is queue is empty\n",
    "    def is_empty(self):\n",
    "        return len(self)==0\n",
    "    \n",
    "    def __len__(self):\n",
    "        return len(self._q_list)\n",
    "    \n",
    "    #add to the end of the queue\n",
    "    def enqueue(self,item):\n",
    "        self._q_list.append(item)\n",
    "        \n",
    "    #remove and return first item in the queue\n",
    "    def dequeue(self):\n",
    "        if self.is_empty() == True:\n",
    "            raise ValueError('cannot pop and empty list')\n",
    "        else:\n",
    "            return self._q_list.pop(0)"
   ]
  },
  {
   "cell_type": "code",
   "execution_count": 2,
   "metadata": {
    "scrolled": true
   },
   "outputs": [
    {
     "data": {
      "text/plain": [
       "4"
      ]
     },
     "execution_count": 2,
     "metadata": {},
     "output_type": "execute_result"
    }
   ],
   "source": [
    "q = l_queue()\n",
    "q.enqueue(4)\n",
    "q.enqueue(5)\n",
    "q.enqueue(2)\n",
    "q.dequeue()"
   ]
  },
  {
   "cell_type": "markdown",
   "metadata": {},
   "source": [
    "## A circular queue ADT with a list "
   ]
  },
  {
   "cell_type": "code",
   "execution_count": 110,
   "metadata": {},
   "outputs": [],
   "source": [
    "class queue: \n",
    "    \n",
    "    \"\"\"\n",
    "    list-based implementation, obviously changes complexity \n",
    "    compared to book's usage of an array\n",
    "    \"\"\"\n",
    "    \n",
    "    \n",
    "    #create an empty queue \n",
    "    def __init__(self,max_size):\n",
    "        self._count = 0\n",
    "        self._front = 0 \n",
    "        self._back = max_size - 1 \n",
    "        self.max_size = max_size\n",
    "        self._qarray = [0 for i in range(0,max_size)]\n",
    "        \n",
    "    def is_empty(self):\n",
    "        return self._count == 0 \n",
    "    \n",
    "    def is_full(self):\n",
    "        return self._count == len(self._qarray)\n",
    "    \n",
    "    def __len__(self):\n",
    "        return self._count\n",
    "    \n",
    "    def contents(self):\n",
    "        return self._qarray\n",
    "    \n",
    "    def enqueue(self,item):\n",
    "        assert not self.is_full(), \"cannot enqueue to a full queue\"\n",
    "        self._back = (self._back + 1) % self.max_size\n",
    "        self._qarray[self._back] = item\n",
    "        self._count += 1 \n",
    "        \n",
    "    def dequeue(self):\n",
    "        assert not self.is_empty(), \"can't dequeue an empty queue\"\n",
    "        item = self._qarray[self._front]\n",
    "        self._front = (self._front + 1) % self.max_size\n",
    "        self._count -= 1 \n",
    "        return item\n",
    "        "
   ]
  }
 ],
 "metadata": {
  "kernelspec": {
   "display_name": "Python 3",
   "language": "python",
   "name": "python3"
  },
  "language_info": {
   "codemirror_mode": {
    "name": "ipython",
    "version": 3
   },
   "file_extension": ".py",
   "mimetype": "text/x-python",
   "name": "python",
   "nbconvert_exporter": "python",
   "pygments_lexer": "ipython3",
   "version": "3.8.5"
  }
 },
 "nbformat": 4,
 "nbformat_minor": 5
}

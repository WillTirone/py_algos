{
 "cells": [
  {
   "cell_type": "code",
   "execution_count": 27,
   "id": "b5d462c4",
   "metadata": {},
   "outputs": [],
   "source": [
    "#queue ADT using a list \n",
    "class queue:\n",
    "    \n",
    "    #create empty queue\n",
    "    def __init__(self):\n",
    "        self._q_list = list() \n",
    "        \n",
    "    #return True is queue is empty\n",
    "    def is_empty(self):\n",
    "        return len(self)==0\n",
    "    \n",
    "    def __len__(self):\n",
    "        return len(self._q_list)\n",
    "    \n",
    "    #add to the end of the queue\n",
    "    def enqueue(self,item):\n",
    "        self._q_list.append(item)\n",
    "        \n",
    "    #remove and return first item in the queue\n",
    "    def dequeue(self):\n",
    "        if self.is_empty() == True:\n",
    "            raise ValueError('cannot pop and empty list')\n",
    "        else:\n",
    "            return self._q_list.pop(0)"
   ]
  },
  {
   "cell_type": "code",
   "execution_count": 47,
   "id": "62677531",
   "metadata": {},
   "outputs": [
    {
     "data": {
      "text/plain": [
       "4"
      ]
     },
     "execution_count": 47,
     "metadata": {},
     "output_type": "execute_result"
    }
   ],
   "source": [
    "q = queue()\n",
    "q.enqueue(4)\n",
    "q.enqueue(5)\n",
    "q.enqueue(2)\n",
    "q.dequeue()"
   ]
  },
  {
   "cell_type": "code",
   "execution_count": null,
   "id": "fcb1e130",
   "metadata": {},
   "outputs": [],
   "source": []
  }
 ],
 "metadata": {
  "kernelspec": {
   "display_name": "Python 3 (ipykernel)",
   "language": "python",
   "name": "python3"
  },
  "language_info": {
   "codemirror_mode": {
    "name": "ipython",
    "version": 3
   },
   "file_extension": ".py",
   "mimetype": "text/x-python",
   "name": "python",
   "nbconvert_exporter": "python",
   "pygments_lexer": "ipython3",
   "version": "3.8.11"
  }
 },
 "nbformat": 4,
 "nbformat_minor": 5
}

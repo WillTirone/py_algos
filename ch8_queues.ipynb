{
 "cells": [
  {
   "cell_type": "code",
   "execution_count": 27,
   "metadata": {},
   "outputs": [],
   "source": [
    "#queue ADT using a list \n",
    "class queue:\n",
    "    \n",
    "    #create empty queue\n",
    "    def __init__(self):\n",
    "        self._q_list = list() \n",
    "        \n",
    "    #return True is queue is empty\n",
    "    def is_empty(self):\n",
    "        return len(self)==0\n",
    "    \n",
    "    def __len__(self):\n",
    "        return len(self._q_list)\n",
    "    \n",
    "    #add to the end of the queue\n",
    "    def enqueue(self,item):\n",
    "        self._q_list.append(item)\n",
    "        \n",
    "    #remove and return first item in the queue\n",
    "    def dequeue(self):\n",
    "        if self.is_empty() == True:\n",
    "            raise ValueError('cannot pop and empty list')\n",
    "        else:\n",
    "            return self._q_list.pop(0)"
   ]
  },
  {
   "cell_type": "code",
   "execution_count": 47,
   "metadata": {
    "scrolled": true
   },
   "outputs": [
    {
     "data": {
      "text/plain": [
       "4"
      ]
     },
     "execution_count": 47,
     "metadata": {},
     "output_type": "execute_result"
    }
   ],
   "source": [
    "q = queue()\n",
    "q.enqueue(4)\n",
    "q.enqueue(5)\n",
    "q.enqueue(2)\n",
    "q.dequeue()"
   ]
  },
  {
   "cell_type": "markdown",
   "metadata": {},
   "source": [
    "## A circular queue ADT with a list "
   ]
  },
  {
   "cell_type": "code",
   "execution_count": 110,
   "metadata": {},
   "outputs": [],
   "source": [
    "class queue: \n",
    "    \n",
    "    \"\"\"\n",
    "    list-based implementation, obviously changes complexity \n",
    "    compared to book's usage of an array\n",
    "    \"\"\"\n",
    "    \n",
    "    \n",
    "    #create an empty queue \n",
    "    def __init__(self,max_size):\n",
    "        self._count = 0\n",
    "        self._front = 0 \n",
    "        self._back = max_size - 1 \n",
    "        self.max_size = max_size\n",
    "        self._qarray = [0 for i in range(0,max_size)]\n",
    "        \n",
    "    def is_empty(self):\n",
    "        return self._count == 0 \n",
    "    \n",
    "    def is_full(self):\n",
    "        return self._count == len(self._qarray)\n",
    "    \n",
    "    def __len__(self):\n",
    "        return self._count\n",
    "    \n",
    "    def contents(self):\n",
    "        return self._qarray\n",
    "    \n",
    "    def enqueue(self,item):\n",
    "        assert not self.is_full(), \"cannot enqueue to a full queue\"\n",
    "        self._back = (self._back + 1) % self.max_size\n",
    "        self._qarray[self._back] = item\n",
    "        self._count += 1 \n",
    "        \n",
    "    def dequeue(self):\n",
    "        assert not self.is_empty(), \"can't dequeue an empty queue\"\n",
    "        item = self._qarray[self._front]\n",
    "        self._front = (self._front + 1) % self.max_size\n",
    "        self._count -= 1 \n",
    "        return item\n",
    "        "
   ]
  },
  {
   "cell_type": "code",
   "execution_count": 91,
   "metadata": {},
   "outputs": [
    {
     "data": {
      "text/plain": [
       "0"
      ]
     },
     "execution_count": 91,
     "metadata": {},
     "output_type": "execute_result"
    }
   ],
   "source": [
    "test = queue(5)\n",
    "len(test)"
   ]
  },
  {
   "cell_type": "code",
   "execution_count": 100,
   "metadata": {},
   "outputs": [
    {
     "ename": "AssertionError",
     "evalue": "cannot enqueue to a full queue",
     "output_type": "error",
     "traceback": [
      "\u001b[1;31m--------------------------------------------------------\u001b[0m",
      "\u001b[1;31mAssertionError\u001b[0m         Traceback (most recent call last)",
      "\u001b[1;32m<ipython-input-100-6365b9fe5413>\u001b[0m in \u001b[0;36m<module>\u001b[1;34m\u001b[0m\n\u001b[1;32m----> 1\u001b[1;33m \u001b[0mtest\u001b[0m\u001b[1;33m.\u001b[0m\u001b[0menqueue\u001b[0m\u001b[1;33m(\u001b[0m\u001b[1;36m8\u001b[0m\u001b[1;33m)\u001b[0m\u001b[1;33m\u001b[0m\u001b[1;33m\u001b[0m\u001b[0m\n\u001b[0m\u001b[0;32m      2\u001b[0m \u001b[0mtest\u001b[0m\u001b[1;33m.\u001b[0m\u001b[0mcontents\u001b[0m\u001b[1;33m(\u001b[0m\u001b[1;33m)\u001b[0m\u001b[1;33m\u001b[0m\u001b[1;33m\u001b[0m\u001b[0m\n",
      "\u001b[1;32m<ipython-input-86-dbec33e3f04d>\u001b[0m in \u001b[0;36menqueue\u001b[1;34m(self, item)\u001b[0m\n\u001b[0;32m     24\u001b[0m \u001b[1;33m\u001b[0m\u001b[0m\n\u001b[0;32m     25\u001b[0m     \u001b[1;32mdef\u001b[0m \u001b[0menqueue\u001b[0m\u001b[1;33m(\u001b[0m\u001b[0mself\u001b[0m\u001b[1;33m,\u001b[0m\u001b[0mitem\u001b[0m\u001b[1;33m)\u001b[0m\u001b[1;33m:\u001b[0m\u001b[1;33m\u001b[0m\u001b[1;33m\u001b[0m\u001b[0m\n\u001b[1;32m---> 26\u001b[1;33m         \u001b[1;32massert\u001b[0m \u001b[1;32mnot\u001b[0m \u001b[0mself\u001b[0m\u001b[1;33m.\u001b[0m\u001b[0mis_full\u001b[0m\u001b[1;33m(\u001b[0m\u001b[1;33m)\u001b[0m\u001b[1;33m,\u001b[0m \u001b[1;34m\"cannot enqueue to a full queue\"\u001b[0m\u001b[1;33m\u001b[0m\u001b[1;33m\u001b[0m\u001b[0m\n\u001b[0m\u001b[0;32m     27\u001b[0m         \u001b[0mself\u001b[0m\u001b[1;33m.\u001b[0m\u001b[0m_back\u001b[0m \u001b[1;33m=\u001b[0m \u001b[1;33m(\u001b[0m\u001b[0mself\u001b[0m\u001b[1;33m.\u001b[0m\u001b[0m_back\u001b[0m \u001b[1;33m+\u001b[0m \u001b[1;36m1\u001b[0m\u001b[1;33m)\u001b[0m \u001b[1;33m%\u001b[0m \u001b[0mself\u001b[0m\u001b[1;33m.\u001b[0m\u001b[0mmax_size\u001b[0m\u001b[1;33m\u001b[0m\u001b[1;33m\u001b[0m\u001b[0m\n\u001b[0;32m     28\u001b[0m         \u001b[0mself\u001b[0m\u001b[1;33m.\u001b[0m\u001b[0m_qarray\u001b[0m\u001b[1;33m[\u001b[0m\u001b[0mself\u001b[0m\u001b[1;33m.\u001b[0m\u001b[0m_back\u001b[0m\u001b[1;33m]\u001b[0m \u001b[1;33m=\u001b[0m \u001b[0mitem\u001b[0m\u001b[1;33m\u001b[0m\u001b[1;33m\u001b[0m\u001b[0m\n",
      "\u001b[1;31mAssertionError\u001b[0m: cannot enqueue to a full queue"
     ]
    }
   ],
   "source": [
    "#actually works \n",
    "test.enqueue(8)\n",
    "test.contents()"
   ]
  },
  {
   "cell_type": "code",
   "execution_count": 99,
   "metadata": {},
   "outputs": [
    {
     "data": {
      "text/plain": [
       "5"
      ]
     },
     "execution_count": 99,
     "metadata": {},
     "output_type": "execute_result"
    }
   ],
   "source": [
    "len(test)"
   ]
  },
  {
   "cell_type": "code",
   "execution_count": null,
   "metadata": {},
   "outputs": [],
   "source": []
  }
 ],
 "metadata": {
  "kernelspec": {
   "display_name": "Python 3",
   "language": "python",
   "name": "python3"
  },
  "language_info": {
   "codemirror_mode": {
    "name": "ipython",
    "version": 3
   },
   "file_extension": ".py",
   "mimetype": "text/x-python",
   "name": "python",
   "nbconvert_exporter": "python",
   "pygments_lexer": "ipython3",
   "version": "3.8.5"
  }
 },
 "nbformat": 4,
 "nbformat_minor": 5
}

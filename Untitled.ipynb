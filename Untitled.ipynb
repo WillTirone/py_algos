{
 "cells": [
  {
   "cell_type": "markdown",
   "metadata": {},
   "source": [
    "## Polynomial ADT\n",
    "\n",
    "The textbook I'm working through in this repo had polynomials implemented as a linked list. I'm going to try doing it with tuples or a list of tuples.\n",
    "\n",
    "A polynomial is anything of the form $Ax^{n} + Bx^{n-1} ... Zx^{0}$. For example, $x^2 + 3x + 2$. I'll try to implement common polynomial operations like addition, subtraction, multiplication, factorization, and solving."
   ]
  },
  {
   "cell_type": "code",
   "execution_count": 25,
   "metadata": {},
   "outputs": [],
   "source": [
    "class poly:\n",
    "    \n",
    "    def __init__(self, coefficient=None,degree=None):\n",
    "        self.poly = list()\n",
    "        self.term = tuple([coefficient, degree])\n",
    "        self.poly.append(self.term)\n",
    "        \n",
    "    def append(self, coefficient, degree):\n",
    "        self.term = tuple([coefficient, degree])\n",
    "        self.poly.append(self.term)\n",
    "        \n",
    "    def __contains__(self,element):\n",
    "        return element in self.poly"
   ]
  },
  {
   "cell_type": "code",
   "execution_count": 26,
   "metadata": {},
   "outputs": [],
   "source": [
    "a = poly(3,4)"
   ]
  },
  {
   "cell_type": "code",
   "execution_count": 27,
   "metadata": {},
   "outputs": [
    {
     "data": {
      "text/plain": [
       "[(3, 4), (4, 5)]"
      ]
     },
     "execution_count": 27,
     "metadata": {},
     "output_type": "execute_result"
    }
   ],
   "source": [
    "a.append(4,5)\n",
    "a.poly"
   ]
  },
  {
   "cell_type": "code",
   "execution_count": 28,
   "metadata": {},
   "outputs": [
    {
     "data": {
      "text/plain": [
       "True"
      ]
     },
     "execution_count": 28,
     "metadata": {},
     "output_type": "execute_result"
    }
   ],
   "source": [
    "(3,4) in a #testing __contains__"
   ]
  },
  {
   "cell_type": "code",
   "execution_count": null,
   "metadata": {},
   "outputs": [],
   "source": []
  }
 ],
 "metadata": {
  "kernelspec": {
   "display_name": "Python 3",
   "language": "python",
   "name": "python3"
  },
  "language_info": {
   "codemirror_mode": {
    "name": "ipython",
    "version": 3
   },
   "file_extension": ".py",
   "mimetype": "text/x-python",
   "name": "python",
   "nbconvert_exporter": "python",
   "pygments_lexer": "ipython3",
   "version": "3.8.5"
  }
 },
 "nbformat": 4,
 "nbformat_minor": 4
}

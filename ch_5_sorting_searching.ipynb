{
 "cells": [
  {
   "cell_type": "markdown",
   "metadata": {
    "heading_collapsed": true
   },
   "source": [
    "# 5.1 Searching And Sorting"
   ]
  },
  {
   "cell_type": "code",
   "execution_count": 3,
   "metadata": {
    "hidden": true
   },
   "outputs": [
    {
     "name": "stdout",
     "output_type": "stream",
     "text": [
      "not in list\n"
     ]
    }
   ],
   "source": [
    "#the 'in' keyword is a linear search, probably O(n)\n",
    "if 10 in [1,2,3]:\n",
    "    print('found')\n",
    "else:\n",
    "    print('not in list')"
   ]
  },
  {
   "cell_type": "markdown",
   "metadata": {
    "hidden": true
   },
   "source": [
    "## linear unsorted search"
   ]
  },
  {
   "cell_type": "code",
   "execution_count": 4,
   "metadata": {
    "hidden": true
   },
   "outputs": [],
   "source": [
    "#worst case of O(n)\n",
    "def linear_search(values,target):\n",
    "    n = len(values)\n",
    "    for i in range(n):\n",
    "        #if target is in ith element, return True\n",
    "        if values[i] == target:\n",
    "            return True\n",
    "    return False #if not found in values"
   ]
  },
  {
   "cell_type": "code",
   "execution_count": 41,
   "metadata": {
    "hidden": true
   },
   "outputs": [
    {
     "data": {
      "text/plain": [
       "False"
      ]
     },
     "execution_count": 41,
     "metadata": {},
     "output_type": "execute_result"
    }
   ],
   "source": [
    "#note that this is not sorted\n",
    "a = [1,4,5,6,3,7,8]\n",
    "linear_search(a,'a')"
   ]
  },
  {
   "cell_type": "markdown",
   "metadata": {
    "hidden": true
   },
   "source": [
    "## linear sorted search"
   ]
  },
  {
   "cell_type": "code",
   "execution_count": 15,
   "metadata": {
    "hidden": true
   },
   "outputs": [],
   "source": [
    "#complexity of O(n)\n",
    "def sorted_linear_search(values, item):\n",
    "    n = len(values)\n",
    "    values.sort() #sort values, might defeat the purpose of this \n",
    "    for i in range(n):\n",
    "        #if target found at ith element return True\n",
    "        if values[i] == item:\n",
    "            return True\n",
    "        #if target larger than ith element, it's not in sequence\n",
    "        elif values[i] > item:\n",
    "            return False\n",
    "    \n",
    "    return False #item not in sequence"
   ]
  },
  {
   "cell_type": "code",
   "execution_count": 16,
   "metadata": {
    "hidden": true
   },
   "outputs": [
    {
     "data": {
      "text/plain": [
       "False"
      ]
     },
     "execution_count": 16,
     "metadata": {},
     "output_type": "execute_result"
    }
   ],
   "source": [
    "sorted_linear_search(a,100)"
   ]
  },
  {
   "cell_type": "markdown",
   "metadata": {
    "hidden": true
   },
   "source": [
    "## finding smallest value"
   ]
  },
  {
   "cell_type": "code",
   "execution_count": 21,
   "metadata": {
    "hidden": true
   },
   "outputs": [],
   "source": [
    "def find_small(values):\n",
    "    n = len(values)\n",
    "    #assume first item is \"smallest\" to prime the search\n",
    "    smallest = values[0]\n",
    "    #determine if anything else is smallest\n",
    "    for i in range(1,n):\n",
    "        if values[i] < smallest:\n",
    "            smallest = values[i]\n",
    "            \n",
    "    return smallest"
   ]
  },
  {
   "cell_type": "code",
   "execution_count": 29,
   "metadata": {
    "hidden": true
   },
   "outputs": [
    {
     "data": {
      "text/plain": [
       "-100"
      ]
     },
     "execution_count": 29,
     "metadata": {},
     "output_type": "execute_result"
    }
   ],
   "source": [
    "b = [5,4,2,3,-100,6,5,2,34]\n",
    "find_small(b)"
   ]
  },
  {
   "cell_type": "markdown",
   "metadata": {},
   "source": [
    "# 5.1.2 Searching (p. 128)"
   ]
  },
  {
   "cell_type": "markdown",
   "metadata": {
    "heading_collapsed": true
   },
   "source": [
    "## Binary  Search"
   ]
  },
  {
   "cell_type": "code",
   "execution_count": 18,
   "metadata": {
    "hidden": true
   },
   "outputs": [],
   "source": [
    "def binary_search(values,target):\n",
    "    #start with whole sequence\n",
    "    low = 0 \n",
    "    high = len(values)-1\n",
    "    \n",
    "    #repeatedly divide the sequence\n",
    "    while low <= high:\n",
    "        \n",
    "        #find midpoint\n",
    "        mid = (high + low) // 2 \n",
    "        \n",
    "        #is the midpoint the target? If not go to next step\n",
    "        if values[mid] == target:\n",
    "            return True\n",
    "        \n",
    "        #is target beforet the midpoint? if not go to next step\n",
    "        elif target < values[mid]:\n",
    "            high = mid - 1\n",
    "        \n",
    "        #or if target is after the midpoint, do this\n",
    "        else: \n",
    "            low = mid + 1\n",
    "    \n",
    "    #if cannot be subdivided we're done \n",
    "    return False"
   ]
  },
  {
   "cell_type": "code",
   "execution_count": 22,
   "metadata": {
    "hidden": true
   },
   "outputs": [
    {
     "data": {
      "text/plain": [
       "True"
      ]
     },
     "execution_count": 22,
     "metadata": {},
     "output_type": "execute_result"
    }
   ],
   "source": [
    "a = [1,2,3,4,7,6,5,4,3,2,3,4,5,6]\n",
    "binary_search(a,6)"
   ]
  },
  {
   "cell_type": "code",
   "execution_count": 26,
   "metadata": {
    "hidden": true
   },
   "outputs": [],
   "source": [
    "def bubble_sort(seq):\n",
    "    n = len(seq)\n",
    "    \n",
    "    #perform n-1 bubble operations on sequence\n",
    "    for i in range(n-1):\n",
    "        #bubble largest item to the end \n",
    "        # bug in the code from the book, this is corrected here. book incorrectly has (i+n-1) which is out of index\n",
    "        for j in range(n-1-i): \n",
    "            if seq[j] > seq[j+1]: #swap j and i items\n",
    "                tmp = seq[j]\n",
    "                seq[j] = seq[j+1]\n",
    "                seq[j+1] = tmp "
   ]
  },
  {
   "cell_type": "code",
   "execution_count": 28,
   "metadata": {
    "hidden": true
   },
   "outputs": [
    {
     "data": {
      "text/plain": [
       "[1, 2, 2, 3, 3, 3, 4, 4, 4, 5, 5, 6, 6, 7]"
      ]
     },
     "execution_count": 28,
     "metadata": {},
     "output_type": "execute_result"
    }
   ],
   "source": [
    "bubble_sort(a)\n",
    "a"
   ]
  },
  {
   "cell_type": "markdown",
   "metadata": {},
   "source": [
    "## 5.2.2 Selection Sort\n",
    "\n",
    "similar to how a human woudl sort things "
   ]
  },
  {
   "cell_type": "code",
   "execution_count": 38,
   "metadata": {},
   "outputs": [],
   "source": [
    "def selection_sort(seq):\n",
    "    n = len(seq)\n",
    "    for i in range(n-1):\n",
    "        \n",
    "        #assume ith element is the smallest\n",
    "        small_ndx = i\n",
    "        \n",
    "        #determine if any other index is smaller \n",
    "        for j in range(i+1, n):\n",
    "            if seq[j] < seq[small_ndx]:\n",
    "                small_ndx = j\n",
    "                \n",
    "        #swap i value and small_ndx only if smallest value is not in correct position. \n",
    "        if small_ndx != i: #book had this indented incorrectly, has to be under the outer for loop \n",
    "            tmp = seq[i]\n",
    "            seq[i] = seq[small_ndx]\n",
    "            seq[small_ndx] = tmp\n",
    "    "
   ]
  },
  {
   "cell_type": "code",
   "execution_count": 39,
   "metadata": {},
   "outputs": [
    {
     "data": {
      "text/plain": [
       "[1, 2, 3, 4, 4, 5]"
      ]
     },
     "execution_count": 39,
     "metadata": {},
     "output_type": "execute_result"
    }
   ],
   "source": [
    "a = [1,3,4,2,5,4]\n",
    "selection_sort(a)\n",
    "a"
   ]
  },
  {
   "cell_type": "markdown",
   "metadata": {},
   "source": [
    "## Insertion Sort (p.137)"
   ]
  },
  {
   "cell_type": "code",
   "execution_count": null,
   "metadata": {},
   "outputs": [],
   "source": []
  }
 ],
 "metadata": {
  "kernelspec": {
   "display_name": "Python 3 (ipykernel)",
   "language": "python",
   "name": "python3"
  },
  "language_info": {
   "codemirror_mode": {
    "name": "ipython",
    "version": 3
   },
   "file_extension": ".py",
   "mimetype": "text/x-python",
   "name": "python",
   "nbconvert_exporter": "python",
   "pygments_lexer": "ipython3",
   "version": "3.8.11"
  }
 },
 "nbformat": 4,
 "nbformat_minor": 4
}
